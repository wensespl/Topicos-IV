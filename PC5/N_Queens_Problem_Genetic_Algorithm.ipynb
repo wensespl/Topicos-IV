{
  "cells": [
    {
      "cell_type": "markdown",
      "metadata": {
        "id": "-DFxotWyDWHM"
      },
      "source": [
        "# N-Queens Problem"
      ]
    },
    {
      "cell_type": "markdown",
      "metadata": {
        "id": "qqQ4djGpDWHg"
      },
      "source": [
        "### Definitions and functions"
      ]
    },
    {
      "cell_type": "code",
      "execution_count": null,
      "metadata": {
        "id": "0s-CZrRfDWHk"
      },
      "outputs": [],
      "source": [
        "# Imports\n",
        "import random\n",
        "import math\n",
        "import matplotlib.pyplot as plt\n",
        "import copy"
      ]
    },
    {
      "cell_type": "code",
      "execution_count": null,
      "metadata": {
        "id": "8c24K7wEDWHp"
      },
      "outputs": [],
      "source": [
        "# Function to create an Empty Board\n",
        "def emptyChessBoard():\n",
        "    return [0] * chessBoardSize * chessBoardSize"
      ]
    },
    {
      "cell_type": "code",
      "execution_count": null,
      "metadata": {
        "id": "pLUv0eaqDWHs"
      },
      "outputs": [],
      "source": [
        "# Function to create a Full Random Chess Board\n",
        "def fullRandomChessBoard():\n",
        "    randChessBoard = emptyChessBoard()\n",
        "    for x in range(chessBoardSize):\n",
        "        while True:\n",
        "            randPosition = random.randrange(chessBoardSize*chessBoardSize)\n",
        "            if randChessBoard[randPosition] == 0:\n",
        "                randChessBoard[randPosition] = 1\n",
        "                break            \n",
        "    return randChessBoard"
      ]
    },
    {
      "cell_type": "code",
      "execution_count": null,
      "metadata": {
        "id": "jlEm24m5DWHv"
      },
      "outputs": [],
      "source": [
        "# Function to print the Board\n",
        "def printChessBoard(chessBoard):\n",
        "    boardSize = int(math.sqrt(len(chessBoard)))\n",
        "    boardElement = 0\n",
        "    for x in chessBoard:\n",
        "        printBoard = lambda i: '|_|' if str(i) == '0' else '|X|'\n",
        "        boardElement += 1\n",
        "        if boardElement % boardSize == 0:\n",
        "            print(\"%s\" %(printBoard(x)))\n",
        "        else:\n",
        "            print(\"%s\" %(printBoard(x)), end = '')"
      ]
    },
    {
      "cell_type": "code",
      "execution_count": null,
      "metadata": {
        "id": "BOHv-DNnDWHz"
      },
      "outputs": [],
      "source": [
        "# Count constraints violations\n",
        "def countConstraintSatisfactory(chessBoard):\n",
        "    violations = 0\n",
        "    for myIndex, myValue in enumerate(chessBoard):\n",
        "        if myValue == 1: # Queen found\n",
        "            for myPairIndex, myPairValue in enumerate(chessBoard):\n",
        "                if myPairValue == 1 and myPairIndex != myIndex: # Queen check\n",
        "                    #print('Debug: Check ' + str(myIndex) + ' vs ' + str(myPairIndex))\n",
        "                    if isConstraintSatisfactoryLocal(chessBoard, myIndex, myPairIndex) is False:\n",
        "                        violations = violations + 1\n",
        "    if violations > 0:\n",
        "        violations = violations / 2\n",
        "    return violations"
      ]
    },
    {
      "cell_type": "code",
      "execution_count": null,
      "metadata": {
        "id": "zvXrTywVDWH1"
      },
      "outputs": [],
      "source": [
        "# Function to check constraints between x and y\n",
        "def isConstraintSatisfactoryLocal(chessBoard, x, y):\n",
        "    boardSize = int(math.sqrt(len(chessBoard)))\n",
        "    xRow = int (x/boardSize)\n",
        "    xColumn = int (x%boardSize)\n",
        "    yRow = int (y/boardSize)\n",
        "    yColumn = int (y%boardSize)\n",
        "    #print('Debug: Check ' + str(x) + ' ('+str(xRow)+','+str(xColumn)+')  vs ' + str(y) + ' ('+str(yRow)+','+str(yColumn)+')')\n",
        "    if xRow == yRow:\n",
        "        return False\n",
        "    if xColumn == yColumn:\n",
        "        return False\n",
        "    inBoard = lambda e: boardSize if e > boardSize else 0 if e < 0 else e\n",
        "    \n",
        "    for colisionNumber in list(range(-1*boardSize,boardSize)):\n",
        "        if xRow == yRow + colisionNumber and xColumn == yColumn + colisionNumber:\n",
        "            #print('Debug: Colided!')\n",
        "            return False\n",
        "        if xRow == yRow - colisionNumber and xColumn == yColumn + colisionNumber:\n",
        "            #print('Debug: Colided!')\n",
        "            return False\n",
        "    \n",
        "    return True    "
      ]
    },
    {
      "cell_type": "code",
      "execution_count": null,
      "metadata": {
        "id": "AYWDVimEDWH3"
      },
      "outputs": [],
      "source": [
        "# Function that returns the fitness of a chessboard based on the number of violations\n",
        "def fitness(chessBoard):\n",
        "    return countConstraintSatisfactory(chessBoard)"
      ]
    },
    {
      "cell_type": "code",
      "execution_count": null,
      "metadata": {
        "id": "tdzgU3hHDWH4"
      },
      "outputs": [],
      "source": [
        "# Sort population\n",
        "def sortPopulation(population):\n",
        "    population.sort(key=lambda x: fitness(x))\n",
        "    return population"
      ]
    },
    {
      "cell_type": "code",
      "execution_count": null,
      "metadata": {
        "id": "prWulgxhDWH5"
      },
      "outputs": [],
      "source": [
        "# Tournament selection\n",
        "def tournament(population, k):\n",
        "    candidate1 = copy.deepcopy(population[random.randrange(len(population))])\n",
        "    for i in range(k):\n",
        "        while True:\n",
        "            candidate2 = copy.deepcopy(population[random.randrange(len(population))])\n",
        "            if candidate1 != candidate2:\n",
        "                break\n",
        "    if fitness(candidate2) < fitness(candidate1):\n",
        "        return candidate2\n",
        "    else:\n",
        "        return candidate1"
      ]
    },
    {
      "cell_type": "code",
      "execution_count": null,
      "metadata": {
        "id": "uAggbl7RDWH5"
      },
      "outputs": [],
      "source": [
        "# Crossover\n",
        "def crossover(parent1, parent2):\n",
        "    cut1 = random.randrange(len(parent1))\n",
        "    cut2 = random.randrange(len(parent1))\n",
        "    if cut1 == cut2:\n",
        "        return parent1, parent2\n",
        "    if cut1 > cut2:\n",
        "        cuttmp = cut1\n",
        "        cut1 = cut2\n",
        "        cut2 = cuttmp\n",
        "    #print('%i - %i' %(cut1, cut2))\n",
        "    child1 = parent1[0:cut1]+parent2[cut1:cut2]+parent1[cut2:]\n",
        "    child2 = parent2[0:cut1]+parent1[cut1:cut2]+parent2[cut2:]\n",
        "    return child1, child2"
      ]
    },
    {
      "cell_type": "code",
      "execution_count": null,
      "metadata": {
        "id": "yapsqrhODWH6"
      },
      "outputs": [],
      "source": [
        "# Mutation flip position\n",
        "def mutateFlipPosition(individual):\n",
        "    flipsCount = random.randrange(maxNumberOfRandFlips)\n",
        "    if flipsCount == 0:\n",
        "        flipsCount = 1\n",
        "    for flips in range(flipsCount):\n",
        "        while True:\n",
        "            randFlip = random.randrange(len(individual))\n",
        "            if individual[randFlip] == 0:\n",
        "                individual[randFlip] = 1\n",
        "                break\n",
        "        while True:\n",
        "            randFlip = random.randrange(len(individual))\n",
        "            if individual[randFlip] == 1:\n",
        "                individual[randFlip] = 0\n",
        "                break"
      ]
    },
    {
      "cell_type": "code",
      "execution_count": null,
      "metadata": {
        "id": "aI1BQMJGDWH7"
      },
      "outputs": [],
      "source": [
        "# Fix chess board queens count\n",
        "def fixChessBoard(individual):\n",
        "    while individual.count(1) > chessBoardSize:\n",
        "        randFlip = random.randrange(len(individual))\n",
        "        if individual[randFlip] == 1:\n",
        "            individual[randFlip] = 0\n",
        "\n",
        "    while individual.count(1) < chessBoardSize:\n",
        "        randFlip = random.randrange(len(individual))\n",
        "        if individual[randFlip] == 0:\n",
        "            individual[randFlip] = 1"
      ]
    },
    {
      "cell_type": "code",
      "execution_count": null,
      "metadata": {
        "id": "i4AUwYivDWH8"
      },
      "outputs": [],
      "source": [
        "# Definitions\n",
        "chessBoardSize = 8 # Board size\n",
        "maxRandomQueens = 8 # Just for random gereration, does not limit the algorithm\n",
        "halfPopulationSize = 50 # Half population of a generation\n",
        "tournamentRounds = 1 # Rounds of tournament selection\n",
        "chanceToMutate = 0.9 # Probability to mutate\n",
        "maxNumberOfRandFlips = 2 # How many positions can be fliped\n",
        "generations = 500 # How many generations"
      ]
    },
    {
      "cell_type": "markdown",
      "metadata": {
        "id": "A19EseixDWH8"
      },
      "source": [
        "### Main program"
      ]
    },
    {
      "cell_type": "code",
      "execution_count": null,
      "metadata": {
        "id": "TRmB9aK1DWH9"
      },
      "outputs": [],
      "source": [
        "# Generate initial random population\n",
        "# Phenotype representation as a List\n",
        "population = []\n",
        "for individual in list(range(halfPopulationSize)):\n",
        "    randChessBoard = fullRandomChessBoard()\n",
        "    population.append(randChessBoard)"
      ]
    },
    {
      "cell_type": "code",
      "execution_count": null,
      "metadata": {
        "id": "5wnRAZSSDWH9"
      },
      "outputs": [],
      "source": [
        "# Main generations loop\n",
        "genFitnessLog = []\n",
        "random.seed()\n",
        "\n",
        "for gen in range(generations):\n",
        "\n",
        "    # Next generation\n",
        "    newPopulation = []\n",
        "    \n",
        "    # Crossover population until it reaches full size\n",
        "    while len(newPopulation) < halfPopulationSize * 2:\n",
        "        parent1 = tournament(population, tournamentRounds)\n",
        "        parent2 = tournament(population, tournamentRounds)\n",
        "        child1, child2 = crossover(parent1, parent2)\n",
        "        fixChessBoard(child1)\n",
        "        fixChessBoard(child2)\n",
        "        newPopulation.append(child1)\n",
        "        newPopulation.append(child2)\n",
        "        newPopulation.append(parent1)\n",
        "        newPopulation.append(parent2)\n",
        "\n",
        "    # Mutate some individuals (not the first)\n",
        "    for i in range(len(newPopulation)):\n",
        "        if random.random() <= chanceToMutate:\n",
        "            mutateFlipPosition(newPopulation[i])\n",
        "\n",
        "    # Sort population according to fitness\n",
        "    newPopulation = sortPopulation(newPopulation)\n",
        "    \n",
        "    # Print generation fitness\n",
        "    genFitness = fitness(newPopulation[0])\n",
        "    genFitnessLog.append(fitness(newPopulation[0]))\n",
        "    #print('Gen %i fitness 0=%i size %i' %(gen, genFitness, len(newPopulation)))\n",
        "    \n",
        "    # Next generation\n",
        "    population = []\n",
        "    \n",
        "    for i in range(halfPopulationSize):\n",
        "        population.append(newPopulation[i])\n",
        "\n",
        "    if genFitness == 0:\n",
        "        break\n",
        "        "
      ]
    },
    {
      "cell_type": "markdown",
      "metadata": {
        "id": "YQ-Nc-AcDWH-"
      },
      "source": [
        "### Results"
      ]
    },
    {
      "cell_type": "code",
      "execution_count": null,
      "metadata": {
        "colab": {
          "base_uri": "https://localhost:8080/",
          "height": 486
        },
        "id": "2eztM9XuDWH_",
        "outputId": "556c4501-ec29-4645-bcf2-cd54f248da75"
      },
      "outputs": [
        {
          "output_type": "stream",
          "name": "stdout",
          "text": [
            "Found a chessboard with fitness 0 (With 0 Constraint Violations). It runned for 73 generations.\n",
            "---\n",
            "|_||_||_||_||_||X||_||_|\n",
            "|_||_||X||_||_||_||_||_|\n",
            "|_||_||_||_||X||_||_||_|\n",
            "|_||_||_||_||_||_||_||X|\n",
            "|X||_||_||_||_||_||_||_|\n",
            "|_||_||_||X||_||_||_||_|\n",
            "|_||X||_||_||_||_||_||_|\n",
            "|_||_||_||_||_||_||X||_|\n",
            "---\n"
          ]
        },
        {
          "output_type": "display_data",
          "data": {
            "image/png": "[encoded data removed]",
            "text/plain": [
              "<Figure size 432x288 with 1 Axes>"
            ]
          },
          "metadata": {
            "needs_background": "light"
          }
        }
      ],
      "source": [
        "# Show results\n",
        "print('Found a chessboard with fitness %i (With %i Constraint Violations). It runned for %i generations.' %(fitness(population[0]), fitness(population[0]), len(genFitnessLog)-1))\n",
        "print('---')\n",
        "printChessBoard(population[0])\n",
        "print('---')\n",
        "\n",
        "# Plot evolution\n",
        "plt.plot(genFitnessLog)\n",
        "plt.title('Evolution')\n",
        "plt.ylabel('Constraint Violations')\n",
        "plt.xlabel('Generations')\n",
        "\n",
        "plt.show()"
      ]
    }
  ],
  "metadata": {
    "kernelspec": {
      "display_name": "Python 3",
      "language": "python",
      "name": "python3"
    },
    "language_info": {
      "codemirror_mode": {
        "name": "ipython",
        "version": 3
      },
      "file_extension": ".py",
      "mimetype": "text/x-python",
      "name": "python",
      "nbconvert_exporter": "python",
      "pygments_lexer": "ipython3",
      "version": "3.7.6"
    },
    "colab": {
      "name": "N-Queens Problem Genetic Algorithm.ipynb",
      "provenance": []
    }
  },
  "nbformat": 4,
  "nbformat_minor": 0
}